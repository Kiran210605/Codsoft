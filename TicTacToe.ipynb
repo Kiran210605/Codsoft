{
  "nbformat": 4,
  "nbformat_minor": 0,
  "metadata": {
    "colab": {
      "provenance": [],
      "authorship_tag": "ABX9TyNOqqWeD75Mfgd2VVqtJmdu",
      "include_colab_link": true
    },
    "kernelspec": {
      "name": "python3",
      "display_name": "Python 3"
    },
    "language_info": {
      "name": "python"
    }
  },
  "cells": [
    {
      "cell_type": "markdown",
      "metadata": {
        "id": "view-in-github",
        "colab_type": "text"
      },
      "source": [
        "<a href=\"https://colab.research.google.com/github/Kiran210605/Codsoft/blob/main/TicTacToe.ipynb\" target=\"_parent\"><img src=\"https://colab.research.google.com/assets/colab-badge.svg\" alt=\"Open In Colab\"/></a>"
      ]
    },
    {
      "cell_type": "code",
      "execution_count": null,
      "metadata": {
        "id": "3mQ60JBxVN8U"
      },
      "outputs": [],
      "source": [
        "from tkinter import *\n",
        "from tkinter import messagebox\n",
        "import random\n",
        "\n",
        "class TicTacToeAI:\n",
        "    def __init__(self, root):\n",
        "        self.window = root\n",
        "        self.initialize_board()\n",
        "        self.setup_buttons()\n",
        "        self.reset()\n",
        "\n",
        "    def initialize_board(self):\n",
        "        self.board = [\"\"] * 9\n",
        "\n",
        "    def setup_buttons(self):\n",
        "        self.buttons = []\n",
        "        for i in range(9):\n",
        "            row, col = divmod(i, 3)\n",
        "            button = Button(self.window, text=\"\", font=(\"Arial\", 15, \"bold\", \"italic\"), width=5, bg=\"#262626\",\n",
        "                            activebackground=\"#262626\", bd=3, command=lambda idx=i: self.human_play(idx), state=DISABLED)\n",
        "            button.grid(row=row, column=col, padx=5, pady=5)\n",
        "            self.buttons.append(button)\n",
        "\n",
        "        self.reset_btn = Button(self.window, text=\"Reset\", font=(\"Arial\", 15, \"bold\", \"italic\"), bg=\"#262626\",\n",
        "                                activebackground=\"#262626\", disabledforeground=\"grey\", fg=\"#9d9dff\", relief=RAISED, bd=3, command=self.reset, state=DISABLED)\n",
        "        self.reset_btn.grid(row=3, column=1, pady=10)\n",
        "\n",
        "    def reset(self):\n",
        "        self.initialize_board()\n",
        "        for button in self.buttons:\n",
        "            button.config(text=\"\", state=NORMAL)\n",
        "        self.reset_btn.config(state=DISABLED)\n",
        "\n",
        "        # Decide who starts first\n",
        "        self.current_player = random.choice([\"human\", \"AI\"])\n",
        "        if self.current_player == \"AI\":\n",
        "            self.ai_play()\n",
        "\n",
        "    def human_play(self, idx):\n",
        "        if self.board[idx] == \"\":\n",
        "            self.board[idx] = \"O\"\n",
        "            self.buttons[idx].config(text=\"O\", state=DISABLED)\n",
        "            if self.check_winner(\"O\"):\n",
        "                self.game_over(\"You are the winner!\")\n",
        "            elif \"\" not in self.board:\n",
        "                self.game_over(\"It's a draw!\")\n",
        "            else:\n",
        "                self.ai_play()\n",
        "\n",
        "    def ai_play(self):\n",
        "        if \"\" in self.board:\n",
        "            empty_cells = [i for i in range(9) if self.board[i] == \"\"]\n",
        "            idx = random.choice(empty_cells)\n",
        "            self.board[idx] = \"X\"\n",
        "            self.buttons[idx].config(text=\"X\", state=DISABLED)\n",
        "            if self.check_winner(\"X\"):\n",
        "                self.game_over(\"Computer wins!\")\n",
        "            elif \"\" not in self.board:\n",
        "                self.game_over(\"It's a draw!\")\n",
        "\n",
        "    def check_winner(self, player):\n",
        "        win_patterns = [\n",
        "            [0, 1, 2], [3, 4, 5], [6, 7, 8],  # Rows\n",
        "            [0, 3, 6], [1, 4, 7], [2, 5, 8],  # Columns\n",
        "            [0, 4, 8], [2, 4, 6]              # Diagonals\n",
        "        ]\n",
        "\n",
        "        for pattern in win_patterns:\n",
        "            if all(self.board[i] == player for i in pattern):\n",
        "                return True\n",
        "        return False\n",
        "\n",
        "    def game_over(self, message):\n",
        "        messagebox.showinfo(\"Game Over\", message)\n",
        "        self.reset_btn.config(state=NORMAL)\n",
        "        for button in self.buttons:\n",
        "            button.config(state=DISABLED)\n",
        "\n",
        "if __name__ == \"__main__\":\n",
        "    window = Tk()\n",
        "    window.title(\"Tic-Tac-Toe AI\")\n",
        "    window.config(bg=\"#141414\")\n",
        "    TicTacToeAI(window)\n",
        "    window.mainloop()\n"
      ]
    }
  ]
}