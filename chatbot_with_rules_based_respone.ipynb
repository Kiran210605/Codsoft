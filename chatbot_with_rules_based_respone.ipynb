{
  "nbformat": 4,
  "nbformat_minor": 0,
  "metadata": {
    "colab": {
      "provenance": [],
      "authorship_tag": "ABX9TyNVV5+HnkL417tyfOVW6274",
      "include_colab_link": true
    },
    "kernelspec": {
      "name": "python3",
      "display_name": "Python 3"
    },
    "language_info": {
      "name": "python"
    }
  },
  "cells": [
    {
      "cell_type": "markdown",
      "metadata": {
        "id": "view-in-github",
        "colab_type": "text"
      },
      "source": [
        "<a href=\"https://colab.research.google.com/github/Kiran210605/Codsoft/blob/main/chatbot_with_rules_based_respone.ipynb\" target=\"_parent\"><img src=\"https://colab.research.google.com/assets/colab-badge.svg\" alt=\"Open In Colab\"/></a>"
      ]
    },
    {
      "cell_type": "code",
      "execution_count": null,
      "metadata": {
        "colab": {
          "base_uri": "https://localhost:8080/"
        },
        "id": "rmuKIVf_atmn",
        "outputId": "f8abba42-374a-41fc-9cc2-2f717a3c8623"
      },
      "outputs": [
        {
          "output_type": "stream",
          "name": "stdout",
          "text": [
            "User: hello\n",
            "Bot: Hello! How can I assist you today?\n",
            "User: can you recommend a good book \n",
            "Bot: To Kill a Mockingbird by Harper Lee is a classic and highly recommended.\n",
            "User: Goodbye\n",
            "Bot: Goodbye! Have a great day!\n",
            "User: Bye\n",
            "Bot: I'm sorry, I didn't understand that. Could you please rephrase?\n"
          ]
        }
      ],
      "source": [
        "class ChatBot:\n",
        "    def __init__(self):\n",
        "        self.rules = {\n",
        "            \"hello\": \"Hello! How can I assist you today?\",\n",
        "            \"how are you\": \"I'm a bot, so I don't have feelings, but thank you for asking!\",\n",
        "            \"can i know more about this page\":\"This is a very well managed page with some awsome technology\",\n",
        "            \"what is your name\": \"I'm a Kiran the Bot, I don't have a personal name. You can call me Kiran.\",\n",
        "            \"what's the weather like today?\":\"I'm sorry, I can't provide real-time data as my training only includes knowledge up until 2023.\",\n",
        "            \"can you tell me a joke\":\"Sure, here's one for you ,Why don't scientists trust atoms Because they make up everything!\",\n",
        "            \"can you recommend a good book \":\"To Kill a Mockingbird by Harper Lee is a classic and highly recommended.\",\n",
        "            \"how to make coffe\":\"Boil the milk and add coffee beans\",\n",
        "            \"goodbye\": \"Goodbye! Have a great day!\"\n",
        "\n",
        "        }\n",
        "\n",
        "    def respond(self, user_input):\n",
        "        user_input = user_input.lower()\n",
        "        for rule in self.rules:\n",
        "            if rule in user_input:\n",
        "                return self.rules[rule]\n",
        "        return \"I'm sorry, I didn't understand that. Could you please rephrase?\"\n",
        "\n",
        "bot = ChatBot()\n",
        "\n",
        "while True:\n",
        "    user_input = input(\"User: \")\n",
        "    if user_input.lower() == \"exit\":\n",
        "        break\n",
        "    response = bot.respond(user_input)\n",
        "    print(\"Bot: \" + response)\n"
      ]
    }
  ]
}